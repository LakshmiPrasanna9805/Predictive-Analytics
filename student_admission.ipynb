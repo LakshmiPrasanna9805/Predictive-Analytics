{
  "nbformat": 4,
  "nbformat_minor": 0,
  "metadata": {
    "colab": {
      "provenance": [],
      "authorship_tag": "ABX9TyMVavwApapxXsoFu9BFFSmH",
      "include_colab_link": true
    },
    "kernelspec": {
      "name": "python3",
      "display_name": "Python 3"
    },
    "language_info": {
      "name": "python"
    }
  },
  "cells": [
    {
      "cell_type": "markdown",
      "metadata": {
        "id": "view-in-github",
        "colab_type": "text"
      },
      "source": [
        "<a href=\"https://colab.research.google.com/github/LakshmiPrasanna9805/Predictive-Analytics/blob/Student_Admission/student_admission.ipynb\" target=\"_parent\"><img src=\"https://colab.research.google.com/assets/colab-badge.svg\" alt=\"Open In Colab\"/></a>"
      ]
    },
    {
      "cell_type": "code",
      "execution_count": 2,
      "metadata": {
        "colab": {
          "base_uri": "https://localhost:8080/"
        },
        "id": "2ar3r0SiKVF2",
        "outputId": "3c2ea9b1-b038-48fd-c6ae-f2da6fc72db2"
      },
      "outputs": [
        {
          "output_type": "stream",
          "name": "stdout",
          "text": [
            "✅ Accuracy: 55.00%\n",
            "\n",
            "📝 Classification Report:\n",
            "              precision    recall  f1-score   support\n",
            "\n",
            "    Accepted       0.44      0.50      0.47         8\n",
            "    Rejected       0.64      0.58      0.61        12\n",
            "\n",
            "    accuracy                           0.55        20\n",
            "   macro avg       0.54      0.54      0.54        20\n",
            "weighted avg       0.56      0.55      0.55        20\n",
            "\n",
            "\n",
            "🎓 Predicted Admission Status for new student: Rejected\n"
          ]
        },
        {
          "output_type": "stream",
          "name": "stderr",
          "text": [
            "/usr/local/lib/python3.11/dist-packages/sklearn/utils/validation.py:2739: UserWarning: X does not have valid feature names, but DecisionTreeClassifier was fitted with feature names\n",
            "  warnings.warn(\n"
          ]
        }
      ],
      "source": [
        "import pandas as pd\n",
        "from sklearn.model_selection import train_test_split\n",
        "from sklearn.tree import DecisionTreeClassifier\n",
        "from sklearn.metrics import accuracy_score, classification_report\n",
        "from sklearn.preprocessing import LabelEncoder\n",
        "import matplotlib.pyplot as plt\n",
        "df = pd.read_csv(\"student_admissions.csv\")\n",
        "df = df.dropna()\n",
        "label_encoders = {}\n",
        "for col in ['Gender', 'City', 'Admission Status']:\n",
        "    le = LabelEncoder()\n",
        "    df[col] = le.fit_transform(df[col])\n",
        "    label_encoders[col] = le\n",
        "X = df[['Age', 'Gender', 'Admission Test Score', 'High School Percentage', 'City']]\n",
        "y = df['Admission Status']\n",
        "X_train, X_test, y_train, y_test = train_test_split(\n",
        "    X, y, test_size=0.2, random_state=42)\n",
        "model = DecisionTreeClassifier(random_state=42)\n",
        "model.fit(X_train, y_train)\n",
        "y_pred = model.predict(X_test)\n",
        "accuracy = accuracy_score(y_test, y_pred)\n",
        "print(f\"✅ Accuracy: {accuracy * 100:.2f}%\")\n",
        "print(\"\\n📝 Classification Report:\")\n",
        "print(classification_report(y_test, y_pred, target_names=label_encoders['Admission Status'].classes_))\n",
        "new_student = [[20, label_encoders['Gender'].transform(['Male'])[0], 88, 75.0, label_encoders['City'].transform(['Lahore'])[0]]]\n",
        "pred = model.predict(new_student)\n",
        "predicted_status = label_encoders['Admission Status'].inverse_transform(pred)[0]\n",
        "print(f\"\\n🎓 Predicted Admission Status for new student: {predicted_status}\")\n",
        "\n",
        "\n"
      ]
    }
  ]
}