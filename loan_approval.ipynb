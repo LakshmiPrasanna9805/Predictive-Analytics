{
  "nbformat": 4,
  "nbformat_minor": 0,
  "metadata": {
    "colab": {
      "provenance": [],
      "authorship_tag": "ABX9TyP8ix9KWS/rlyPaDEqdr2QJ",
      "include_colab_link": true
    },
    "kernelspec": {
      "name": "python3",
      "display_name": "Python 3"
    },
    "language_info": {
      "name": "python"
    }
  },
  "cells": [
    {
      "cell_type": "markdown",
      "metadata": {
        "id": "view-in-github",
        "colab_type": "text"
      },
      "source": [
        "<a href=\"https://colab.research.google.com/github/LakshmiPrasanna9805/Predictive-Analytics/blob/Loan_Approval/loan_approval.ipynb\" target=\"_parent\"><img src=\"https://colab.research.google.com/assets/colab-badge.svg\" alt=\"Open In Colab\"/></a>"
      ]
    },
    {
      "cell_type": "code",
      "execution_count": 3,
      "metadata": {
        "colab": {
          "base_uri": "https://localhost:8080/"
        },
        "id": "CBkvFLAJPORl",
        "outputId": "edfd6ddc-ed74-4557-b0b0-178f85b413fd"
      },
      "outputs": [
        {
          "output_type": "stream",
          "name": "stdout",
          "text": [
            "✅ Accuracy: 97.78%\n",
            "\n",
            "📝 Classification Report:\n",
            "              precision    recall  f1-score   support\n",
            "\n",
            "    Approved       0.98      0.98      0.98       536\n",
            "    Rejected       0.97      0.97      0.97       318\n",
            "\n",
            "    accuracy                           0.98       854\n",
            "   macro avg       0.98      0.98      0.98       854\n",
            "weighted avg       0.98      0.98      0.98       854\n",
            "\n",
            "\n",
            "📢 Predicted Loan Status for new applicant:  Approved\n"
          ]
        },
        {
          "output_type": "stream",
          "name": "stderr",
          "text": [
            "/usr/local/lib/python3.11/dist-packages/sklearn/utils/validation.py:2739: UserWarning: X does not have valid feature names, but DecisionTreeClassifier was fitted with feature names\n",
            "  warnings.warn(\n"
          ]
        }
      ],
      "source": [
        "import pandas as pd\n",
        "from sklearn.model_selection import train_test_split\n",
        "from sklearn.tree import DecisionTreeClassifier\n",
        "from sklearn.preprocessing import LabelEncoder\n",
        "from sklearn.metrics import accuracy_score, classification_report\n",
        "df = pd.read_csv(\"loan_approval.csv\")\n",
        "df.columns = df.columns.str.strip()\n",
        "df.drop(columns=['loan_id'], inplace=True)\n",
        "df.dropna(inplace=True)\n",
        "categorical_cols = ['education', 'self_employed', 'loan_status']\n",
        "label_encoders = {}\n",
        "for col in categorical_cols:\n",
        "    le = LabelEncoder()\n",
        "    df[col] = le.fit_transform(df[col])\n",
        "    label_encoders[col] = le\n",
        "X = df.drop('loan_status', axis=1)\n",
        "y = df['loan_status']\n",
        "X_train, X_test, y_train, y_test = train_test_split(\n",
        "    X, y, test_size=0.2, random_state=42)\n",
        "model = DecisionTreeClassifier(random_state=42)\n",
        "model.fit(X_train, y_train)\n",
        "y_pred = model.predict(X_test)\n",
        "accuracy = accuracy_score(y_test, y_pred)\n",
        "print(f\"✅ Accuracy: {accuracy * 100:.2f}%\")\n",
        "print(\"\\n📝 Classification Report:\")\n",
        "print(classification_report(y_test, y_pred, target_names=label_encoders['loan_status'].classes_))\n",
        "new_applicant = [[2, 1, 0, 8000000, 25000000, 12, 750, 2000000, 3000000, 10000000, 5000000]]\n",
        "prediction = model.predict(new_applicant)\n",
        "status = label_encoders['loan_status'].inverse_transform(prediction)[0]\n",
        "print(f\"\\n📢 Predicted Loan Status for new applicant: {status}\")\n",
        "\n",
        "\n",
        "\n",
        "\n"
      ]
    },
    {
      "cell_type": "code",
      "source": [],
      "metadata": {
        "id": "e_bD51ZLI9JI"
      },
      "execution_count": null,
      "outputs": []
    }
  ]
}