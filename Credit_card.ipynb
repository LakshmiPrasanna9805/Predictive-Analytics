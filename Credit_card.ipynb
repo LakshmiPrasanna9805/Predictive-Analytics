{
  "nbformat": 4,
  "nbformat_minor": 0,
  "metadata": {
    "colab": {
      "provenance": [],
      "authorship_tag": "ABX9TyOSZF7nRcATp88lPTqPiSKq",
      "include_colab_link": true
    },
    "kernelspec": {
      "name": "python3",
      "display_name": "Python 3"
    },
    "language_info": {
      "name": "python"
    }
  },
  "cells": [
    {
      "cell_type": "markdown",
      "metadata": {
        "id": "view-in-github",
        "colab_type": "text"
      },
      "source": [
        "<a href=\"https://colab.research.google.com/github/LakshmiPrasanna9805/Predictive-Analytics/blob/Credit_Crad-Fraud_Detection/Credit_card.ipynb\" target=\"_parent\"><img src=\"https://colab.research.google.com/assets/colab-badge.svg\" alt=\"Open In Colab\"/></a>"
      ]
    },
    {
      "cell_type": "code",
      "source": [
        "import pandas as pd\n",
        "from sklearn.datasets import make_classification\n",
        "from sklearn.model_selection import train_test_split\n",
        "from sklearn.preprocessing import StandardScaler\n",
        "from sklearn.neighbors import KNeighborsClassifier\n",
        "from sklearn.metrics import accuracy_score, classification_report\n",
        "X, y = make_classification(n_samples=10000, n_features=30,\n",
        "                           n_informative=10, n_redundant=10,\n",
        "                           weights=[0.99], flip_y=0, random_state=42)\n",
        "X_train, X_test, y_train, y_test = train_test_split(\n",
        "    X, y, test_size=0.2, stratify=y, random_state=42\n",
        ")\n",
        "scaler = StandardScaler()\n",
        "X_train = scaler.fit_transform(X_train)\n",
        "X_test = scaler.transform(X_test)\n",
        "knn_model = KNeighborsClassifier(n_neighbors=5)\n",
        "knn_model.fit(X_train, y_train)\n",
        "y_pred = knn_model.predict(X_test)\n",
        "print(\"✅ Accuracy:\", accuracy_score(y_test, y_pred))\n",
        "print(\"\\n📘 Classification Report:\\n\", classification_report(y_test, y_pred))\n",
        "print(\"\\n🎯 Sample Predictions (Actual vs Predicted):\")\n",
        "print(pd.DataFrame({\n",
        "    'Actual': y_test[:10],\n",
        "    'Predicted': y_pred[:10]\n",
        "}))\n"
      ],
      "metadata": {
        "colab": {
          "base_uri": "https://localhost:8080/"
        },
        "id": "20moZ-POZDje",
        "outputId": "e23cc18d-a867-4a0a-ca2c-d5b1486e1e50"
      },
      "execution_count": 11,
      "outputs": [
        {
          "output_type": "stream",
          "name": "stdout",
          "text": [
            "✅ Accuracy: 0.9905\n",
            "\n",
            "📘 Classification Report:\n",
            "               precision    recall  f1-score   support\n",
            "\n",
            "           0       0.99      1.00      1.00      1980\n",
            "           1       1.00      0.05      0.10        20\n",
            "\n",
            "    accuracy                           0.99      2000\n",
            "   macro avg       1.00      0.53      0.55      2000\n",
            "weighted avg       0.99      0.99      0.99      2000\n",
            "\n",
            "\n",
            "🎯 Sample Predictions (Actual vs Predicted):\n",
            "   Actual  Predicted\n",
            "0       0          0\n",
            "1       0          0\n",
            "2       0          0\n",
            "3       0          0\n",
            "4       0          0\n",
            "5       0          0\n",
            "6       0          0\n",
            "7       0          0\n",
            "8       0          0\n",
            "9       0          0\n"
          ]
        }
      ]
    }
  ]
}